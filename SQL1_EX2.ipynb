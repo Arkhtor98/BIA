{
  "nbformat": 4,
  "nbformat_minor": 0,
  "metadata": {
    "colab": {
      "name": "Copie de SQL1_EX2.ipynb",
      "provenance": [],
      "collapsed_sections": [],
      "include_colab_link": true
    },
    "kernelspec": {
      "name": "python3",
      "display_name": "Python 3"
    }
  },
  "cells": [
    {
      "cell_type": "markdown",
      "metadata": {
        "id": "view-in-github",
        "colab_type": "text"
      },
      "source": [
        "<a href=\"https://colab.research.google.com/github/Arkhtor98/BIA/blob/main/SQL1_EX2.ipynb\" target=\"_parent\"><img src=\"https://colab.research.google.com/assets/colab-badge.svg\" alt=\"Open In Colab\"/></a>"
      ]
    },
    {
      "cell_type": "markdown",
      "metadata": {
        "id": "FnSwSz5vSOG3"
      },
      "source": [
        "# Week 5 - SQL (1/2) - Exercice 2"
      ]
    },
    {
      "cell_type": "markdown",
      "metadata": {
        "id": "Re4_0fl9ZS0v"
      },
      "source": [
        "# National Collegiate Athletic Association | NCAA\n",
        "We will now use an extract of a dataset about the NCAA, which oversees and regulates North American university sports.\n",
        "\n",
        "College presidents across the USA recognized a need to track how student-athletes are doing academically prior to graduation. Therefore, they implemeted a comprehensive academic refore package designed to improve the academic success and graduation of all student-athletes. The centerpiece of the academic reform package was the development of a real-time academic measurement for sports teams, known as the Academic Progress Rate (APR).\n",
        "\n",
        "The APR includes student-athlete eligibility, retention and graduation as factors in a formula that yields a single number, providing a much clearer picture of the current academic culture on each sports team. Since its inception, the APR has become an important measure of student-athlete academic success. Additionally, student-athletes can be ruled ineligible to play if they demonstrate poor academic performances.\n",
        "\n",
        "In the extract of the data we will be using, we will compare teams based on their number of student-athletes on the roster (`(Previous)Athletes`), their APR score (`(Previous)Score`), and their ratio of eligible players (`(previous)Eligibility`). We have these information for both the \"current\" year (2014) and \"two\" years back (2012).\n",
        "\n",
        "[(data source)](https://www.kaggle.com/ncaa/academic-scores)"
      ]
    },
    {
      "cell_type": "code",
      "metadata": {
        "id": "AwN8qMPRZBLF"
      },
      "source": [
        "import pandas as pd\n",
        "from sqlalchemy import create_engine\n",
        "db = create_engine('sqlite://', echo=False)\n",
        "csvfile = 'https://raw.githubusercontent.com/michalis0/Business-Intelligence-and-Analytics/master/data/NCAA.csv'\n",
        "df = pd.read_csv(csvfile, delimiter=';')\n",
        "table_name = 'ncaa'\n",
        "df.to_sql(table_name, con=db)"
      ],
      "execution_count": null,
      "outputs": []
    },
    {
      "cell_type": "markdown",
      "metadata": {
        "id": "so66dzTPVqIa"
      },
      "source": [
        "Now, let's take a first look at the data we will be working with. "
      ]
    },
    {
      "cell_type": "code",
      "metadata": {
        "id": "zQ5TK705Vxki",
        "colab": {
          "base_uri": "https://localhost:8080/",
          "height": 204
        },
        "outputId": "5a71d408-d42b-488d-8aa7-4421ff275934"
      },
      "source": [
        "query = \"\"\"\n",
        "select *\n",
        "from ncaa\n",
        "limit 5\n",
        "\"\"\"\n",
        "sql_df = pd.read_sql(query, con=db)\n",
        "sql_df"
      ],
      "execution_count": null,
      "outputs": [
        {
          "output_type": "execute_result",
          "data": {
            "text/html": [
              "<div>\n",
              "<style scoped>\n",
              "    .dataframe tbody tr th:only-of-type {\n",
              "        vertical-align: middle;\n",
              "    }\n",
              "\n",
              "    .dataframe tbody tr th {\n",
              "        vertical-align: top;\n",
              "    }\n",
              "\n",
              "    .dataframe thead th {\n",
              "        text-align: right;\n",
              "    }\n",
              "</style>\n",
              "<table border=\"1\" class=\"dataframe\">\n",
              "  <thead>\n",
              "    <tr style=\"text-align: right;\">\n",
              "      <th></th>\n",
              "      <th>index</th>\n",
              "      <th>School</th>\n",
              "      <th>Sport</th>\n",
              "      <th>Conference</th>\n",
              "      <th>Athletes</th>\n",
              "      <th>Score</th>\n",
              "      <th>Eligibility</th>\n",
              "      <th>PreviousAthletes</th>\n",
              "      <th>PreviousScore</th>\n",
              "      <th>PreviousEligibility</th>\n",
              "    </tr>\n",
              "  </thead>\n",
              "  <tbody>\n",
              "    <tr>\n",
              "      <th>0</th>\n",
              "      <td>0</td>\n",
              "      <td>Northwestern University</td>\n",
              "      <td>Men's Basketball</td>\n",
              "      <td>Big Ten Conference</td>\n",
              "      <td>12</td>\n",
              "      <td>932</td>\n",
              "      <td>0.9565</td>\n",
              "      <td>12.0</td>\n",
              "      <td>979.0</td>\n",
              "      <td>0.9583</td>\n",
              "    </tr>\n",
              "    <tr>\n",
              "      <th>1</th>\n",
              "      <td>1</td>\n",
              "      <td>University of Oregon</td>\n",
              "      <td>Men's Basketball</td>\n",
              "      <td>Pac-12 Conference</td>\n",
              "      <td>13</td>\n",
              "      <td>905</td>\n",
              "      <td>0.9565</td>\n",
              "      <td>13.0</td>\n",
              "      <td>952.0</td>\n",
              "      <td>1.0000</td>\n",
              "    </tr>\n",
              "    <tr>\n",
              "      <th>2</th>\n",
              "      <td>2</td>\n",
              "      <td>Dartmouth College</td>\n",
              "      <td>Women's Basketball</td>\n",
              "      <td>The Ivy League</td>\n",
              "      <td>15</td>\n",
              "      <td>1000</td>\n",
              "      <td>1.0000</td>\n",
              "      <td>10.0</td>\n",
              "      <td>1000.0</td>\n",
              "      <td>1.0000</td>\n",
              "    </tr>\n",
              "    <tr>\n",
              "      <th>3</th>\n",
              "      <td>3</td>\n",
              "      <td>Texas Christian University</td>\n",
              "      <td>Men's Basketball</td>\n",
              "      <td>Big 12 Conference</td>\n",
              "      <td>14</td>\n",
              "      <td>926</td>\n",
              "      <td>0.9259</td>\n",
              "      <td>13.0</td>\n",
              "      <td>918.0</td>\n",
              "      <td>0.8800</td>\n",
              "    </tr>\n",
              "    <tr>\n",
              "      <th>4</th>\n",
              "      <td>4</td>\n",
              "      <td>University of Louisville</td>\n",
              "      <td>Women's Basketball</td>\n",
              "      <td>Atlantic Coast Conference</td>\n",
              "      <td>14</td>\n",
              "      <td>1000</td>\n",
              "      <td>1.0000</td>\n",
              "      <td>17.0</td>\n",
              "      <td>1000.0</td>\n",
              "      <td>1.0000</td>\n",
              "    </tr>\n",
              "  </tbody>\n",
              "</table>\n",
              "</div>"
            ],
            "text/plain": [
              "   index                      School  ... PreviousScore PreviousEligibility\n",
              "0      0     Northwestern University  ...         979.0              0.9583\n",
              "1      1        University of Oregon  ...         952.0              1.0000\n",
              "2      2           Dartmouth College  ...        1000.0              1.0000\n",
              "3      3  Texas Christian University  ...         918.0              0.8800\n",
              "4      4    University of Louisville  ...        1000.0              1.0000\n",
              "\n",
              "[5 rows x 10 columns]"
            ]
          },
          "metadata": {
            "tags": []
          },
          "execution_count": 2
        }
      ]
    },
    {
      "cell_type": "markdown",
      "metadata": {
        "id": "W880RGIylNtD"
      },
      "source": [
        "Each row contains a team. We can see that the dataset contains the following information:\n",
        "- **`School`:** Name of the university affiliated to the team.\n",
        "- **`Sport`:** Name of the sport (and gender) the team plays.\n",
        "- **`Conference`:** Conference the team is playing in.\n",
        "- **`Athletes`:** Number of athletes currently on the team (2014).\n",
        "- **`Score`:**  Current Academic Progress Rate (APR) of the team (2014).\n",
        "- **``Eligibility:``** Ratio of players currently eligible to play (2014).\n",
        "- **`PreviousAthletes`:** Number of athletes previously on the team (2012).\n",
        "- **`PreviousScore`:**  Previous Academic Progress Rate (APR) of the team (2012).\n",
        "- **``PreviousEligibility:``** Ratio of players previously eligible to play (2012)."
      ]
    },
    {
      "cell_type": "markdown",
      "metadata": {
        "id": "mmREmtmFWtIh"
      },
      "source": [
        "### Question 1\n",
        "Find all the schools whose name contains a `W` and have an ice-hockey team.\n",
        "\n",
        "Hint: To account for both women and men's teams, use `'%Ice Hockey'`."
      ]
    },
    {
      "cell_type": "code",
      "metadata": {
        "id": "jBuUh6kQWpbX",
        "colab": {
          "base_uri": "https://localhost:8080/",
          "height": 235
        },
        "outputId": "27aed6bd-e07b-438a-b046-44d36633c766"
      },
      "source": [
        "query = \"\"\"\n",
        "select School\n",
        "from ncaa\n",
        "where Sport like \"%Ice Hockey\" and School like \"%W%\"\n",
        "\"\"\"\n",
        "sql_df = pd.read_sql(query, con=db)\n",
        "sql_df"
      ],
      "execution_count": null,
      "outputs": [
        {
          "output_type": "execute_result",
          "data": {
            "text/html": [
              "<div>\n",
              "<style scoped>\n",
              "    .dataframe tbody tr th:only-of-type {\n",
              "        vertical-align: middle;\n",
              "    }\n",
              "\n",
              "    .dataframe tbody tr th {\n",
              "        vertical-align: top;\n",
              "    }\n",
              "\n",
              "    .dataframe thead th {\n",
              "        text-align: right;\n",
              "    }\n",
              "</style>\n",
              "<table border=\"1\" class=\"dataframe\">\n",
              "  <thead>\n",
              "    <tr style=\"text-align: right;\">\n",
              "      <th></th>\n",
              "      <th>School</th>\n",
              "    </tr>\n",
              "  </thead>\n",
              "  <tbody>\n",
              "    <tr>\n",
              "      <th>0</th>\n",
              "      <td>University of Minnesota, Twin Cities</td>\n",
              "    </tr>\n",
              "    <tr>\n",
              "      <th>1</th>\n",
              "      <td>University of Wisconsin, Madison</td>\n",
              "    </tr>\n",
              "    <tr>\n",
              "      <th>2</th>\n",
              "      <td>Brown University</td>\n",
              "    </tr>\n",
              "    <tr>\n",
              "      <th>3</th>\n",
              "      <td>University of Wisconsin, Madison</td>\n",
              "    </tr>\n",
              "    <tr>\n",
              "      <th>4</th>\n",
              "      <td>University of Minnesota, Twin Cities</td>\n",
              "    </tr>\n",
              "    <tr>\n",
              "      <th>5</th>\n",
              "      <td>Brown University</td>\n",
              "    </tr>\n",
              "  </tbody>\n",
              "</table>\n",
              "</div>"
            ],
            "text/plain": [
              "                                 School\n",
              "0  University of Minnesota, Twin Cities\n",
              "1      University of Wisconsin, Madison\n",
              "2                      Brown University\n",
              "3      University of Wisconsin, Madison\n",
              "4  University of Minnesota, Twin Cities\n",
              "5                      Brown University"
            ]
          },
          "metadata": {
            "tags": []
          },
          "execution_count": 7
        }
      ]
    },
    {
      "cell_type": "markdown",
      "metadata": {
        "id": "_Qhb1LCQbROa"
      },
      "source": [
        "### Question 2\n",
        "Select the worst team that received the worst `Score`, as well as that `Score`.\n",
        "\n",
        "Hint: You need to select the `School`, the `Sport`, and the `Score` as `WorstScore`."
      ]
    },
    {
      "cell_type": "code",
      "metadata": {
        "id": "7vZXkko5bRqV",
        "colab": {
          "base_uri": "https://localhost:8080/",
          "height": 80
        },
        "outputId": "f26dbb41-b500-4293-baa7-0663e23dc23c"
      },
      "source": [
        "query = \"\"\"\n",
        "select School, Sport, min(Score) as 'WorstScore'\n",
        "from ncaa\n",
        "\"\"\"\n",
        "sql_df = pd.read_sql(query, con=db)\n",
        "sql_df"
      ],
      "execution_count": null,
      "outputs": [
        {
          "output_type": "execute_result",
          "data": {
            "text/html": [
              "<div>\n",
              "<style scoped>\n",
              "    .dataframe tbody tr th:only-of-type {\n",
              "        vertical-align: middle;\n",
              "    }\n",
              "\n",
              "    .dataframe tbody tr th {\n",
              "        vertical-align: top;\n",
              "    }\n",
              "\n",
              "    .dataframe thead th {\n",
              "        text-align: right;\n",
              "    }\n",
              "</style>\n",
              "<table border=\"1\" class=\"dataframe\">\n",
              "  <thead>\n",
              "    <tr style=\"text-align: right;\">\n",
              "      <th></th>\n",
              "      <th>School</th>\n",
              "      <th>Sport</th>\n",
              "      <th>WorstScore</th>\n",
              "    </tr>\n",
              "  </thead>\n",
              "  <tbody>\n",
              "    <tr>\n",
              "      <th>0</th>\n",
              "      <td>University of South Dakota</td>\n",
              "      <td>Women's Tennis</td>\n",
              "      <td>875</td>\n",
              "    </tr>\n",
              "  </tbody>\n",
              "</table>\n",
              "</div>"
            ],
            "text/plain": [
              "                       School           Sport  WorstScore\n",
              "0  University of South Dakota  Women's Tennis         875"
            ]
          },
          "metadata": {
            "tags": []
          },
          "execution_count": 8
        }
      ]
    },
    {
      "cell_type": "markdown",
      "metadata": {
        "id": "1khvRDbfLBMz"
      },
      "source": [
        "### Question 3\n",
        "Find the three schools whose athletes have the worst `Score` on average.\n",
        "\n",
        "Hint: Use `order by` and `limit`."
      ]
    },
    {
      "cell_type": "code",
      "metadata": {
        "id": "oxV_1de_YCwd",
        "colab": {
          "base_uri": "https://localhost:8080/",
          "height": 142
        },
        "outputId": "d92373eb-3860-4bbe-e428-7364101fae15"
      },
      "source": [
        "query = \"\"\"\n",
        "select *\n",
        "from ncaa\n",
        "group by School\n",
        "order by avg(Score) asc\n",
        "limit 3\n",
        "\"\"\"\n",
        "sql_df = pd.read_sql(query, con=db)\n",
        "sql_df"
      ],
      "execution_count": null,
      "outputs": [
        {
          "output_type": "execute_result",
          "data": {
            "text/html": [
              "<div>\n",
              "<style scoped>\n",
              "    .dataframe tbody tr th:only-of-type {\n",
              "        vertical-align: middle;\n",
              "    }\n",
              "\n",
              "    .dataframe tbody tr th {\n",
              "        vertical-align: top;\n",
              "    }\n",
              "\n",
              "    .dataframe thead th {\n",
              "        text-align: right;\n",
              "    }\n",
              "</style>\n",
              "<table border=\"1\" class=\"dataframe\">\n",
              "  <thead>\n",
              "    <tr style=\"text-align: right;\">\n",
              "      <th></th>\n",
              "      <th>index</th>\n",
              "      <th>School</th>\n",
              "      <th>Sport</th>\n",
              "      <th>Conference</th>\n",
              "      <th>Athletes</th>\n",
              "      <th>Score</th>\n",
              "      <th>Eligibility</th>\n",
              "      <th>PreviousAthletes</th>\n",
              "      <th>PreviousScore</th>\n",
              "      <th>PreviousEligibility</th>\n",
              "    </tr>\n",
              "  </thead>\n",
              "  <tbody>\n",
              "    <tr>\n",
              "      <th>0</th>\n",
              "      <td>296</td>\n",
              "      <td>University of South Dakota</td>\n",
              "      <td>Women's Tennis</td>\n",
              "      <td>The Summit League</td>\n",
              "      <td>9</td>\n",
              "      <td>875</td>\n",
              "      <td>0.8750</td>\n",
              "      <td>8.0</td>\n",
              "      <td>969.0</td>\n",
              "      <td>0.9375</td>\n",
              "    </tr>\n",
              "    <tr>\n",
              "      <th>1</th>\n",
              "      <td>355</td>\n",
              "      <td>Georgia Institute of Technology</td>\n",
              "      <td>Men's Basketball</td>\n",
              "      <td>Atlantic Coast Conference</td>\n",
              "      <td>13</td>\n",
              "      <td>960</td>\n",
              "      <td>1.0000</td>\n",
              "      <td>12.0</td>\n",
              "      <td>1000.0</td>\n",
              "      <td>1.0000</td>\n",
              "    </tr>\n",
              "    <tr>\n",
              "      <th>2</th>\n",
              "      <td>313</td>\n",
              "      <td>Oregon State University</td>\n",
              "      <td>Men's Basketball</td>\n",
              "      <td>Pac-12 Conference</td>\n",
              "      <td>14</td>\n",
              "      <td>907</td>\n",
              "      <td>0.9259</td>\n",
              "      <td>12.0</td>\n",
              "      <td>1000.0</td>\n",
              "      <td>0.9556</td>\n",
              "    </tr>\n",
              "  </tbody>\n",
              "</table>\n",
              "</div>"
            ],
            "text/plain": [
              "   index                           School  ... PreviousScore PreviousEligibility\n",
              "0    296       University of South Dakota  ...         969.0              0.9375\n",
              "1    355  Georgia Institute of Technology  ...        1000.0              1.0000\n",
              "2    313          Oregon State University  ...        1000.0              0.9556\n",
              "\n",
              "[3 rows x 10 columns]"
            ]
          },
          "metadata": {
            "tags": []
          },
          "execution_count": 15
        }
      ]
    },
    {
      "cell_type": "markdown",
      "metadata": {
        "id": "_rzid89AJmTH"
      },
      "source": [
        "### Questions 4\n",
        "Find the three conferences with the most schools in them. Display both the name of the conferences and the respective number of schools they contain (as `NumberOfSchools`).\n",
        "\n",
        "Hint: You need to count the amount of distinct schools in each conference."
      ]
    },
    {
      "cell_type": "code",
      "metadata": {
        "id": "mUWkP55nX7T1",
        "colab": {
          "base_uri": "https://localhost:8080/",
          "height": 142
        },
        "outputId": "c75f1e91-2be5-4b73-b911-30059b75a3d6"
      },
      "source": [
        "query = \"\"\"\n",
        "select Sport, count(School) as 'NumberOfSchools'\n",
        "from ncaa\n",
        "group by Sport\n",
        "order by NumberOfSchools desc\n",
        "limit 3\n",
        "\"\"\"\n",
        "sql_df = pd.read_sql(query, con=db)\n",
        "sql_df"
      ],
      "execution_count": null,
      "outputs": [
        {
          "output_type": "execute_result",
          "data": {
            "text/html": [
              "<div>\n",
              "<style scoped>\n",
              "    .dataframe tbody tr th:only-of-type {\n",
              "        vertical-align: middle;\n",
              "    }\n",
              "\n",
              "    .dataframe tbody tr th {\n",
              "        vertical-align: top;\n",
              "    }\n",
              "\n",
              "    .dataframe thead th {\n",
              "        text-align: right;\n",
              "    }\n",
              "</style>\n",
              "<table border=\"1\" class=\"dataframe\">\n",
              "  <thead>\n",
              "    <tr style=\"text-align: right;\">\n",
              "      <th></th>\n",
              "      <th>Sport</th>\n",
              "      <th>NumberOfSchools</th>\n",
              "    </tr>\n",
              "  </thead>\n",
              "  <tbody>\n",
              "    <tr>\n",
              "      <th>0</th>\n",
              "      <td>Men's Basketball</td>\n",
              "      <td>68</td>\n",
              "    </tr>\n",
              "    <tr>\n",
              "      <th>1</th>\n",
              "      <td>Women's Basketball</td>\n",
              "      <td>68</td>\n",
              "    </tr>\n",
              "    <tr>\n",
              "      <th>2</th>\n",
              "      <td>Women's Soccer</td>\n",
              "      <td>66</td>\n",
              "    </tr>\n",
              "  </tbody>\n",
              "</table>\n",
              "</div>"
            ],
            "text/plain": [
              "                Sport  NumberOfSchools\n",
              "0    Men's Basketball               68\n",
              "1  Women's Basketball               68\n",
              "2      Women's Soccer               66"
            ]
          },
          "metadata": {
            "tags": []
          },
          "execution_count": 20
        }
      ]
    },
    {
      "cell_type": "markdown",
      "metadata": {
        "id": "H-Ey_gRhQJBG"
      },
      "source": [
        "### Question 5\n",
        "How many `PreviousAthletes` that played in teams where every athlete was eligible (`PreviousEligibility = 1`) did each schools of the `The Ivy League` conference have? Additionally, display the numbers you find as `TotalPreviousAthletes`\n",
        "\n",
        "Hint: Select the name of the schools and the sum of `PreviousAthletes`."
      ]
    },
    {
      "cell_type": "code",
      "metadata": {
        "id": "mdJBNdYYLUUz",
        "colab": {
          "base_uri": "https://localhost:8080/",
          "height": 80
        },
        "outputId": "7998c670-2d64-47d6-dd5f-4578d83b8d91"
      },
      "source": [
        "query = \"\"\"\n",
        "select School, sum(PreviousAthletes) as 'PreviousAthletes'\n",
        "from ncaa\n",
        "where (Conference = 'The Ivy League') and (PreviousEligibility == 1)\n",
        "\"\"\"\n",
        "sql_df = pd.read_sql(query, con=db)\n",
        "sql_df"
      ],
      "execution_count": null,
      "outputs": [
        {
          "output_type": "execute_result",
          "data": {
            "text/html": [
              "<div>\n",
              "<style scoped>\n",
              "    .dataframe tbody tr th:only-of-type {\n",
              "        vertical-align: middle;\n",
              "    }\n",
              "\n",
              "    .dataframe tbody tr th {\n",
              "        vertical-align: top;\n",
              "    }\n",
              "\n",
              "    .dataframe thead th {\n",
              "        text-align: right;\n",
              "    }\n",
              "</style>\n",
              "<table border=\"1\" class=\"dataframe\">\n",
              "  <thead>\n",
              "    <tr style=\"text-align: right;\">\n",
              "      <th></th>\n",
              "      <th>School</th>\n",
              "      <th>PreviousAthletes</th>\n",
              "    </tr>\n",
              "  </thead>\n",
              "  <tbody>\n",
              "    <tr>\n",
              "      <th>0</th>\n",
              "      <td>University of Pennsylvania</td>\n",
              "      <td>967.0</td>\n",
              "    </tr>\n",
              "  </tbody>\n",
              "</table>\n",
              "</div>"
            ],
            "text/plain": [
              "                       School  PreviousAthletes\n",
              "0  University of Pennsylvania             967.0"
            ]
          },
          "metadata": {
            "tags": []
          },
          "execution_count": 21
        }
      ]
    },
    {
      "cell_type": "markdown",
      "metadata": {
        "id": "GWt8BNqtTWx9"
      },
      "source": [
        "### Question 6\n",
        "Find the three sports that currently have the smartest athletes. For a sport to be considered, it needs to have at least 555 athletes.\n",
        "\n",
        "Hint: Select the sport and the average score of its teams and use a having clause."
      ]
    },
    {
      "cell_type": "code",
      "metadata": {
        "id": "rSiFKA4xLUX9",
        "colab": {
          "base_uri": "https://localhost:8080/",
          "height": 142
        },
        "outputId": "3b434f76-b00a-4774-e026-85b73dabddc8"
      },
      "source": [
        "query = \"\"\"\n",
        "select Sport, sum(Athletes), round(avg(Score),3) as \"Average Score\"\n",
        "from ncaa\n",
        "group by Sport\n",
        "having sum(Athletes) >= 555\n",
        "order by avg(Score) desc\n",
        "limit 3\n",
        "\"\"\"\n",
        "sql_df = pd.read_sql(query, con=db)\n",
        "sql_df"
      ],
      "execution_count": null,
      "outputs": [
        {
          "output_type": "execute_result",
          "data": {
            "text/html": [
              "<div>\n",
              "<style scoped>\n",
              "    .dataframe tbody tr th:only-of-type {\n",
              "        vertical-align: middle;\n",
              "    }\n",
              "\n",
              "    .dataframe tbody tr th {\n",
              "        vertical-align: top;\n",
              "    }\n",
              "\n",
              "    .dataframe thead th {\n",
              "        text-align: right;\n",
              "    }\n",
              "</style>\n",
              "<table border=\"1\" class=\"dataframe\">\n",
              "  <thead>\n",
              "    <tr style=\"text-align: right;\">\n",
              "      <th></th>\n",
              "      <th>Sport</th>\n",
              "      <th>sum(Athletes)</th>\n",
              "      <th>Average Score</th>\n",
              "    </tr>\n",
              "  </thead>\n",
              "  <tbody>\n",
              "    <tr>\n",
              "      <th>0</th>\n",
              "      <td>Women's Soccer</td>\n",
              "      <td>1575</td>\n",
              "      <td>989.182</td>\n",
              "    </tr>\n",
              "    <tr>\n",
              "      <th>1</th>\n",
              "      <td>Women's Tennis</td>\n",
              "      <td>575</td>\n",
              "      <td>988.424</td>\n",
              "    </tr>\n",
              "    <tr>\n",
              "      <th>2</th>\n",
              "      <td>Women's Basketball</td>\n",
              "      <td>944</td>\n",
              "      <td>985.794</td>\n",
              "    </tr>\n",
              "  </tbody>\n",
              "</table>\n",
              "</div>"
            ],
            "text/plain": [
              "                Sport  sum(Athletes)  Average Score\n",
              "0      Women's Soccer           1575        989.182\n",
              "1      Women's Tennis            575        988.424\n",
              "2  Women's Basketball            944        985.794"
            ]
          },
          "metadata": {
            "tags": []
          },
          "execution_count": 39
        }
      ]
    },
    {
      "cell_type": "markdown",
      "metadata": {
        "id": "oVx1-SQNMwKT"
      },
      "source": [
        "### Question 7\n",
        "Find the average points by which each school, all sports combined, improved their `Score` compared to `PreviousScore`. Additionally, round that average to 2 decimals, call it `AverageScoreImprovement` and order the results by that average.\n",
        "\n",
        "Hint: You need to group the observations by `School` and take the average of ` (Score - PreviousScore)`."
      ]
    },
    {
      "cell_type": "code",
      "metadata": {
        "id": "FQSqsZBDYC2Y",
        "colab": {
          "base_uri": "https://localhost:8080/",
          "height": 419
        },
        "outputId": "586f1213-0b24-45c1-fc13-3e26f868101b"
      },
      "source": [
        "query = \"\"\"\n",
        "select School, round(avg(Score-PreviousScore),2) as 'AverageScoreImprovement'\n",
        "from ncaa\n",
        "group by School\n",
        "\"\"\"\n",
        "sql_df = pd.read_sql(query, con=db)\n",
        "sql_df"
      ],
      "execution_count": null,
      "outputs": [
        {
          "output_type": "execute_result",
          "data": {
            "text/html": [
              "<div>\n",
              "<style scoped>\n",
              "    .dataframe tbody tr th:only-of-type {\n",
              "        vertical-align: middle;\n",
              "    }\n",
              "\n",
              "    .dataframe tbody tr th {\n",
              "        vertical-align: top;\n",
              "    }\n",
              "\n",
              "    .dataframe thead th {\n",
              "        text-align: right;\n",
              "    }\n",
              "</style>\n",
              "<table border=\"1\" class=\"dataframe\">\n",
              "  <thead>\n",
              "    <tr style=\"text-align: right;\">\n",
              "      <th></th>\n",
              "      <th>School</th>\n",
              "      <th>AverageScoreImprovement</th>\n",
              "    </tr>\n",
              "  </thead>\n",
              "  <tbody>\n",
              "    <tr>\n",
              "      <th>0</th>\n",
              "      <td>Arizona State University</td>\n",
              "      <td>17.00</td>\n",
              "    </tr>\n",
              "    <tr>\n",
              "      <th>1</th>\n",
              "      <td>Baylor University</td>\n",
              "      <td>-2.20</td>\n",
              "    </tr>\n",
              "    <tr>\n",
              "      <th>2</th>\n",
              "      <td>Boston College</td>\n",
              "      <td>12.70</td>\n",
              "    </tr>\n",
              "    <tr>\n",
              "      <th>3</th>\n",
              "      <td>Brown University</td>\n",
              "      <td>1.56</td>\n",
              "    </tr>\n",
              "    <tr>\n",
              "      <th>4</th>\n",
              "      <td>Clemson University</td>\n",
              "      <td>29.83</td>\n",
              "    </tr>\n",
              "    <tr>\n",
              "      <th>...</th>\n",
              "      <td>...</td>\n",
              "      <td>...</td>\n",
              "    </tr>\n",
              "    <tr>\n",
              "      <th>63</th>\n",
              "      <td>Wake Forest University</td>\n",
              "      <td>18.00</td>\n",
              "    </tr>\n",
              "    <tr>\n",
              "      <th>64</th>\n",
              "      <td>Washington State University</td>\n",
              "      <td>-16.75</td>\n",
              "    </tr>\n",
              "    <tr>\n",
              "      <th>65</th>\n",
              "      <td>West Virginia University</td>\n",
              "      <td>15.80</td>\n",
              "    </tr>\n",
              "    <tr>\n",
              "      <th>66</th>\n",
              "      <td>Western Illinois University</td>\n",
              "      <td>1.00</td>\n",
              "    </tr>\n",
              "    <tr>\n",
              "      <th>67</th>\n",
              "      <td>Yale University</td>\n",
              "      <td>-0.88</td>\n",
              "    </tr>\n",
              "  </tbody>\n",
              "</table>\n",
              "<p>68 rows × 2 columns</p>\n",
              "</div>"
            ],
            "text/plain": [
              "                         School  AverageScoreImprovement\n",
              "0      Arizona State University                    17.00\n",
              "1             Baylor University                    -2.20\n",
              "2                Boston College                    12.70\n",
              "3              Brown University                     1.56\n",
              "4            Clemson University                    29.83\n",
              "..                          ...                      ...\n",
              "63       Wake Forest University                    18.00\n",
              "64  Washington State University                   -16.75\n",
              "65     West Virginia University                    15.80\n",
              "66  Western Illinois University                     1.00\n",
              "67              Yale University                    -0.88\n",
              "\n",
              "[68 rows x 2 columns]"
            ]
          },
          "metadata": {
            "tags": []
          },
          "execution_count": 45
        }
      ]
    },
    {
      "cell_type": "markdown",
      "metadata": {
        "id": "lFopMJ0iipo-"
      },
      "source": [
        "### Question 8\n",
        "Rank the men's spoyrts according to their `PastPopularit`, which is the total amount of `Athletes` that played a sport.\n",
        "\n",
        "Hint: To select only men's sports you can use `'M%'` with a `like` in a `where` clause."
      ]
    },
    {
      "cell_type": "code",
      "metadata": {
        "id": "vOirTLyDZJJf",
        "colab": {
          "base_uri": "https://localhost:8080/",
          "height": 204
        },
        "outputId": "9e7bfc68-209d-4ca4-e2c3-120cc1cd3558"
      },
      "source": [
        "query = \"\"\"\n",
        "select Sport, sum(Athletes) as 'PastPopularit'\n",
        "from ncaa\n",
        "where Sport like 'M%'\n",
        "group by Sport\n",
        "order by sum(Athletes) desc\n",
        "\"\"\"\n",
        "sql_df = pd.read_sql(query, con=db)\n",
        "sql_df"
      ],
      "execution_count": null,
      "outputs": [
        {
          "output_type": "execute_result",
          "data": {
            "text/html": [
              "<div>\n",
              "<style scoped>\n",
              "    .dataframe tbody tr th:only-of-type {\n",
              "        vertical-align: middle;\n",
              "    }\n",
              "\n",
              "    .dataframe tbody tr th {\n",
              "        vertical-align: top;\n",
              "    }\n",
              "\n",
              "    .dataframe thead th {\n",
              "        text-align: right;\n",
              "    }\n",
              "</style>\n",
              "<table border=\"1\" class=\"dataframe\">\n",
              "  <thead>\n",
              "    <tr style=\"text-align: right;\">\n",
              "      <th></th>\n",
              "      <th>Sport</th>\n",
              "      <th>PastPopularit</th>\n",
              "    </tr>\n",
              "  </thead>\n",
              "  <tbody>\n",
              "    <tr>\n",
              "      <th>0</th>\n",
              "      <td>Men's Basketball</td>\n",
              "      <td>929</td>\n",
              "    </tr>\n",
              "    <tr>\n",
              "      <th>1</th>\n",
              "      <td>Men's Soccer</td>\n",
              "      <td>853</td>\n",
              "    </tr>\n",
              "    <tr>\n",
              "      <th>2</th>\n",
              "      <td>Men's Tennis</td>\n",
              "      <td>513</td>\n",
              "    </tr>\n",
              "    <tr>\n",
              "      <th>3</th>\n",
              "      <td>Men's Ice Hockey</td>\n",
              "      <td>385</td>\n",
              "    </tr>\n",
              "    <tr>\n",
              "      <th>4</th>\n",
              "      <td>Men's Skiing</td>\n",
              "      <td>65</td>\n",
              "    </tr>\n",
              "  </tbody>\n",
              "</table>\n",
              "</div>"
            ],
            "text/plain": [
              "              Sport  PastPopularit\n",
              "0  Men's Basketball            929\n",
              "1      Men's Soccer            853\n",
              "2      Men's Tennis            513\n",
              "3  Men's Ice Hockey            385\n",
              "4      Men's Skiing             65"
            ]
          },
          "metadata": {
            "tags": []
          },
          "execution_count": 53
        }
      ]
    },
    {
      "cell_type": "markdown",
      "metadata": {
        "id": "YGgdzEPyZRu7"
      },
      "source": [
        "### Question 9\n",
        "Find how many athletes each of the 5 women's sports have gained (or lost).\n",
        "\n",
        "Hint: To select only women's sports you can use `'W%'` with a `like` in a `where` clause."
      ]
    },
    {
      "cell_type": "code",
      "metadata": {
        "id": "9a2KvLE-ZJAC",
        "colab": {
          "base_uri": "https://localhost:8080/",
          "height": 204
        },
        "outputId": "1ac09d57-1623-4e10-b27f-3a87021c821a"
      },
      "source": [
        "query = \"\"\"\n",
        "select Sport, sum(Athletes - PreviousAthletes) as 'Athlete difference'\n",
        "from ncaa\n",
        "where Sport like 'W%'\n",
        "group by Sport\n",
        "\"\"\"\n",
        "sql_df = pd.read_sql(query, con=db)\n",
        "sql_df"
      ],
      "execution_count": null,
      "outputs": [
        {
          "output_type": "execute_result",
          "data": {
            "text/html": [
              "<div>\n",
              "<style scoped>\n",
              "    .dataframe tbody tr th:only-of-type {\n",
              "        vertical-align: middle;\n",
              "    }\n",
              "\n",
              "    .dataframe tbody tr th {\n",
              "        vertical-align: top;\n",
              "    }\n",
              "\n",
              "    .dataframe thead th {\n",
              "        text-align: right;\n",
              "    }\n",
              "</style>\n",
              "<table border=\"1\" class=\"dataframe\">\n",
              "  <thead>\n",
              "    <tr style=\"text-align: right;\">\n",
              "      <th></th>\n",
              "      <th>Sport</th>\n",
              "      <th>Athlete difference</th>\n",
              "    </tr>\n",
              "  </thead>\n",
              "  <tbody>\n",
              "    <tr>\n",
              "      <th>0</th>\n",
              "      <td>Women's Basketball</td>\n",
              "      <td>25.0</td>\n",
              "    </tr>\n",
              "    <tr>\n",
              "      <th>1</th>\n",
              "      <td>Women's Ice Hockey</td>\n",
              "      <td>-15.0</td>\n",
              "    </tr>\n",
              "    <tr>\n",
              "      <th>2</th>\n",
              "      <td>Women's Skiing</td>\n",
              "      <td>-3.0</td>\n",
              "    </tr>\n",
              "    <tr>\n",
              "      <th>3</th>\n",
              "      <td>Women's Soccer</td>\n",
              "      <td>38.0</td>\n",
              "    </tr>\n",
              "    <tr>\n",
              "      <th>4</th>\n",
              "      <td>Women's Tennis</td>\n",
              "      <td>11.0</td>\n",
              "    </tr>\n",
              "  </tbody>\n",
              "</table>\n",
              "</div>"
            ],
            "text/plain": [
              "                Sport  Athlete difference\n",
              "0  Women's Basketball                25.0\n",
              "1  Women's Ice Hockey               -15.0\n",
              "2      Women's Skiing                -3.0\n",
              "3      Women's Soccer                38.0\n",
              "4      Women's Tennis                11.0"
            ]
          },
          "metadata": {
            "tags": []
          },
          "execution_count": 55
        }
      ]
    },
    {
      "cell_type": "markdown",
      "metadata": {
        "id": "K2hH3Q3JjvIW"
      },
      "source": [
        "### Question 10\n",
        "There are some schools that have adopted new sports between the last survey and the present one. Find out which schools adopted which new sports.\n",
        "\n",
        "Hint: If a school did not offer a sport, its `PreviousAthletes`, `PreviousScore`, and `PreviousEligibility` are missing. If a school is offering a spoort, its `Athletes`, `Score`, and `Eligibility` are not missing. Use `Null`"
      ]
    },
    {
      "cell_type": "code",
      "metadata": {
        "id": "i3QzMD_TZJQz",
        "colab": {
          "base_uri": "https://localhost:8080/",
          "height": 142
        },
        "outputId": "285420c4-744f-4bf4-b9ce-8d4f5b60d626"
      },
      "source": [
        "query = \"\"\"\n",
        "select School, Sport\n",
        "from ncaa\n",
        "where (PreviousAthletes is null and PreviousScore is null and PreviousEligibility is null) and (Athletes is not null and Score is not null and Eligibility is not null)\n",
        "\"\"\"\n",
        "sql_df = pd.read_sql(query, con=db)\n",
        "sql_df"
      ],
      "execution_count": null,
      "outputs": [
        {
          "output_type": "execute_result",
          "data": {
            "text/html": [
              "<div>\n",
              "<style scoped>\n",
              "    .dataframe tbody tr th:only-of-type {\n",
              "        vertical-align: middle;\n",
              "    }\n",
              "\n",
              "    .dataframe tbody tr th {\n",
              "        vertical-align: top;\n",
              "    }\n",
              "\n",
              "    .dataframe thead th {\n",
              "        text-align: right;\n",
              "    }\n",
              "</style>\n",
              "<table border=\"1\" class=\"dataframe\">\n",
              "  <thead>\n",
              "    <tr style=\"text-align: right;\">\n",
              "      <th></th>\n",
              "      <th>School</th>\n",
              "      <th>Sport</th>\n",
              "    </tr>\n",
              "  </thead>\n",
              "  <tbody>\n",
              "    <tr>\n",
              "      <th>0</th>\n",
              "      <td>Pennsylvania State University</td>\n",
              "      <td>Men's Ice Hockey</td>\n",
              "    </tr>\n",
              "    <tr>\n",
              "      <th>1</th>\n",
              "      <td>Pennsylvania State University</td>\n",
              "      <td>Women's Ice Hockey</td>\n",
              "    </tr>\n",
              "    <tr>\n",
              "      <th>2</th>\n",
              "      <td>Western Illinois University</td>\n",
              "      <td>Women's Tennis</td>\n",
              "    </tr>\n",
              "  </tbody>\n",
              "</table>\n",
              "</div>"
            ],
            "text/plain": [
              "                          School               Sport\n",
              "0  Pennsylvania State University    Men's Ice Hockey\n",
              "1  Pennsylvania State University  Women's Ice Hockey\n",
              "2    Western Illinois University      Women's Tennis"
            ]
          },
          "metadata": {
            "tags": []
          },
          "execution_count": 56
        }
      ]
    }
  ]
}