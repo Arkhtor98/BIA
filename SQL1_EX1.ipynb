{
  "nbformat": 4,
  "nbformat_minor": 0,
  "metadata": {
    "colab": {
      "name": "Copie de SQL1_EX1",
      "provenance": [],
      "collapsed_sections": [],
      "include_colab_link": true
    },
    "kernelspec": {
      "name": "python3",
      "display_name": "Python 3"
    }
  },
  "cells": [
    {
      "cell_type": "markdown",
      "metadata": {
        "id": "view-in-github",
        "colab_type": "text"
      },
      "source": [
        "<a href=\"https://colab.research.google.com/github/Arkhtor98/BIA/blob/main/SQL1_EX1.ipynb\" target=\"_parent\"><img src=\"https://colab.research.google.com/assets/colab-badge.svg\" alt=\"Open In Colab\"/></a>"
      ]
    },
    {
      "cell_type": "markdown",
      "metadata": {
        "id": "FnSwSz5vSOG3"
      },
      "source": [
        "# Week 5 - SQL (1/2) - Exercice\n",
        "First, we need to import the Python libraries we will need and do various setups."
      ]
    },
    {
      "cell_type": "code",
      "metadata": {
        "id": "uDu6vmfkQssS"
      },
      "source": [
        "import pandas as pd\n",
        "from sqlalchemy import create_engine\n",
        "db = create_engine('sqlite://', echo=False)\n",
        "csvfile = 'https://raw.githubusercontent.com/michalis0/Business-Intelligence-and-Analytics/master/data/artists%20(1).csv'\n",
        "df = pd.read_csv(csvfile)\n",
        "df.columns = map(str.lower, df.columns)\n",
        "table_name = 'artists'\n",
        "df.to_sql(table_name, con=db)"
      ],
      "execution_count": null,
      "outputs": []
    },
    {
      "cell_type": "markdown",
      "metadata": {
        "id": "jtWiN27bSfLq"
      },
      "source": [
        "Now, let's take a first look at the data we will be working with."
      ]
    },
    {
      "cell_type": "code",
      "metadata": {
        "id": "OLWhFgJ1SagD",
        "colab": {
          "base_uri": "https://localhost:8080/",
          "height": 204
        },
        "outputId": "c864df0f-aaa5-46e9-de71-bf2463bcd2ba"
      },
      "source": [
        "query = \"\"\"\n",
        "select * from artists\n",
        "limit 5\n",
        "\"\"\"\n",
        "sql_df = pd.read_sql(query, con=db)\n",
        "sql_df"
      ],
      "execution_count": null,
      "outputs": [
        {
          "output_type": "execute_result",
          "data": {
            "text/html": [
              "<div>\n",
              "<style scoped>\n",
              "    .dataframe tbody tr th:only-of-type {\n",
              "        vertical-align: middle;\n",
              "    }\n",
              "\n",
              "    .dataframe tbody tr th {\n",
              "        vertical-align: top;\n",
              "    }\n",
              "\n",
              "    .dataframe thead th {\n",
              "        text-align: right;\n",
              "    }\n",
              "</style>\n",
              "<table border=\"1\" class=\"dataframe\">\n",
              "  <thead>\n",
              "    <tr style=\"text-align: right;\">\n",
              "      <th></th>\n",
              "      <th>index</th>\n",
              "      <th>id</th>\n",
              "      <th>name</th>\n",
              "      <th>years</th>\n",
              "      <th>genre</th>\n",
              "      <th>nationality</th>\n",
              "      <th>bio</th>\n",
              "      <th>wikipedia</th>\n",
              "      <th>paintings</th>\n",
              "    </tr>\n",
              "  </thead>\n",
              "  <tbody>\n",
              "    <tr>\n",
              "      <th>0</th>\n",
              "      <td>0</td>\n",
              "      <td>0</td>\n",
              "      <td>Amedeo Modigliani</td>\n",
              "      <td>1884 - 1920</td>\n",
              "      <td>Expressionism</td>\n",
              "      <td>Italian</td>\n",
              "      <td>Amedeo Clemente Modigliani (Italian pronunciat...</td>\n",
              "      <td>http://en.wikipedia.org/wiki/Amedeo_Modigliani</td>\n",
              "      <td>193</td>\n",
              "    </tr>\n",
              "    <tr>\n",
              "      <th>1</th>\n",
              "      <td>1</td>\n",
              "      <td>1</td>\n",
              "      <td>Vasiliy Kandinskiy</td>\n",
              "      <td>1866 - 1944</td>\n",
              "      <td>Expressionism,Abstractionism</td>\n",
              "      <td>Russian</td>\n",
              "      <td>Wassily Wassilyevich Kandinsky (Russian: Васи́...</td>\n",
              "      <td>http://en.wikipedia.org/wiki/Wassily_Kandinsky</td>\n",
              "      <td>88</td>\n",
              "    </tr>\n",
              "    <tr>\n",
              "      <th>2</th>\n",
              "      <td>2</td>\n",
              "      <td>2</td>\n",
              "      <td>Diego Rivera</td>\n",
              "      <td>1886 - 1957</td>\n",
              "      <td>Social Realism,Muralism</td>\n",
              "      <td>Mexican</td>\n",
              "      <td>Diego María de la Concepción Juan Nepomuceno E...</td>\n",
              "      <td>http://en.wikipedia.org/wiki/Diego_Rivera</td>\n",
              "      <td>70</td>\n",
              "    </tr>\n",
              "    <tr>\n",
              "      <th>3</th>\n",
              "      <td>3</td>\n",
              "      <td>3</td>\n",
              "      <td>Claude Monet</td>\n",
              "      <td>1840 - 1926</td>\n",
              "      <td>Impressionism</td>\n",
              "      <td>French</td>\n",
              "      <td>Oscar-Claude Monet (; French: [klod mɔnɛ]; 14 ...</td>\n",
              "      <td>http://en.wikipedia.org/wiki/Claude_Monet</td>\n",
              "      <td>73</td>\n",
              "    </tr>\n",
              "    <tr>\n",
              "      <th>4</th>\n",
              "      <td>4</td>\n",
              "      <td>4</td>\n",
              "      <td>Rene Magritte</td>\n",
              "      <td>1898 - 1967</td>\n",
              "      <td>Surrealism,Impressionism</td>\n",
              "      <td>Belgian</td>\n",
              "      <td>René François Ghislain Magritte (French: [ʁəne...</td>\n",
              "      <td>http://en.wikipedia.org/wiki/René_Magritte</td>\n",
              "      <td>194</td>\n",
              "    </tr>\n",
              "  </tbody>\n",
              "</table>\n",
              "</div>"
            ],
            "text/plain": [
              "   index  id  ...                                       wikipedia paintings\n",
              "0      0   0  ...  http://en.wikipedia.org/wiki/Amedeo_Modigliani       193\n",
              "1      1   1  ...  http://en.wikipedia.org/wiki/Wassily_Kandinsky        88\n",
              "2      2   2  ...       http://en.wikipedia.org/wiki/Diego_Rivera        70\n",
              "3      3   3  ...       http://en.wikipedia.org/wiki/Claude_Monet        73\n",
              "4      4   4  ...      http://en.wikipedia.org/wiki/René_Magritte       194\n",
              "\n",
              "[5 rows x 9 columns]"
            ]
          },
          "metadata": {
            "tags": []
          },
          "execution_count": 2
        }
      ]
    },
    {
      "cell_type": "markdown",
      "metadata": {
        "id": "1ypa25-JYgZy"
      },
      "source": [
        "Each row contains a painter. We can see that the dataset contains the following information:\n",
        "- **`name`**\n",
        "- **`years`**: date of birth - date of death\n",
        "- **`genre`**: the artistic movement they embody\n",
        "- **`nationality`**\n",
        "- **`bio`**\n",
        "- **`wikipedia`**\n",
        "- **`paintings`**: total number of paintings"
      ]
    },
    {
      "cell_type": "markdown",
      "metadata": {
        "id": "2wLut5taU0nY"
      },
      "source": [
        "### Question 1\n",
        "Find the names of all French artists and order them by alphabetical order."
      ]
    },
    {
      "cell_type": "code",
      "metadata": {
        "id": "ZxLeN_2gQJIM",
        "colab": {
          "base_uri": "https://localhost:8080/",
          "height": 452
        },
        "outputId": "60d63b5f-06c8-414d-e714-62f819cf77bd"
      },
      "source": [
        "query = \"\"\" \n",
        "select name\n",
        "from artists\n",
        "where nationality == 'French'\n",
        "order by name asc\n",
        "\n",
        "\"\"\"\n",
        "sql_df = pd.read_sql(query, con=db)\n",
        "sql_df"
      ],
      "execution_count": null,
      "outputs": [
        {
          "output_type": "execute_result",
          "data": {
            "text/html": [
              "<div>\n",
              "<style scoped>\n",
              "    .dataframe tbody tr th:only-of-type {\n",
              "        vertical-align: middle;\n",
              "    }\n",
              "\n",
              "    .dataframe tbody tr th {\n",
              "        vertical-align: top;\n",
              "    }\n",
              "\n",
              "    .dataframe thead th {\n",
              "        text-align: right;\n",
              "    }\n",
              "</style>\n",
              "<table border=\"1\" class=\"dataframe\">\n",
              "  <thead>\n",
              "    <tr style=\"text-align: right;\">\n",
              "      <th></th>\n",
              "      <th>name</th>\n",
              "    </tr>\n",
              "  </thead>\n",
              "  <tbody>\n",
              "    <tr>\n",
              "      <th>0</th>\n",
              "      <td>Camille Pissarro</td>\n",
              "    </tr>\n",
              "    <tr>\n",
              "      <th>1</th>\n",
              "      <td>Claude Monet</td>\n",
              "    </tr>\n",
              "    <tr>\n",
              "      <th>2</th>\n",
              "      <td>Edgar Degas</td>\n",
              "    </tr>\n",
              "    <tr>\n",
              "      <th>3</th>\n",
              "      <td>Edouard Manet</td>\n",
              "    </tr>\n",
              "    <tr>\n",
              "      <th>4</th>\n",
              "      <td>Eugene Delacroix</td>\n",
              "    </tr>\n",
              "    <tr>\n",
              "      <th>5</th>\n",
              "      <td>Georges Seurat</td>\n",
              "    </tr>\n",
              "    <tr>\n",
              "      <th>6</th>\n",
              "      <td>Gustave Courbet</td>\n",
              "    </tr>\n",
              "    <tr>\n",
              "      <th>7</th>\n",
              "      <td>Henri Matisse</td>\n",
              "    </tr>\n",
              "    <tr>\n",
              "      <th>8</th>\n",
              "      <td>Henri Rousseau</td>\n",
              "    </tr>\n",
              "    <tr>\n",
              "      <th>9</th>\n",
              "      <td>Henri de Toulouse-Lautrec</td>\n",
              "    </tr>\n",
              "    <tr>\n",
              "      <th>10</th>\n",
              "      <td>Paul Cezanne</td>\n",
              "    </tr>\n",
              "    <tr>\n",
              "      <th>11</th>\n",
              "      <td>Paul Gauguin</td>\n",
              "    </tr>\n",
              "    <tr>\n",
              "      <th>12</th>\n",
              "      <td>Pierre-Auguste Renoir</td>\n",
              "    </tr>\n",
              "  </tbody>\n",
              "</table>\n",
              "</div>"
            ],
            "text/plain": [
              "                         name\n",
              "0            Camille Pissarro\n",
              "1                Claude Monet\n",
              "2                 Edgar Degas\n",
              "3               Edouard Manet\n",
              "4            Eugene Delacroix\n",
              "5              Georges Seurat\n",
              "6             Gustave Courbet\n",
              "7               Henri Matisse\n",
              "8              Henri Rousseau\n",
              "9   Henri de Toulouse-Lautrec\n",
              "10               Paul Cezanne\n",
              "11               Paul Gauguin\n",
              "12      Pierre-Auguste Renoir"
            ]
          },
          "metadata": {
            "tags": []
          },
          "execution_count": 3
        }
      ]
    },
    {
      "cell_type": "markdown",
      "metadata": {
        "id": "Vmncy2dokId3"
      },
      "source": [
        "###Question 2\n",
        "Find the total number of Italian artists."
      ]
    },
    {
      "cell_type": "code",
      "metadata": {
        "id": "K3MeFGL0ngP5",
        "colab": {
          "base_uri": "https://localhost:8080/",
          "height": 80
        },
        "outputId": "356d79ba-b1f6-4b24-b5e6-8239b19445b7"
      },
      "source": [
        "query = \"\"\" \n",
        "select count(name) as 'Number of italian artists'\n",
        "from artists\n",
        "where nationality == 'Italian'\n",
        "\n",
        " \"\"\"\n",
        "sql_df = pd.read_sql(query, con=db)\n",
        "sql_df.head()"
      ],
      "execution_count": null,
      "outputs": [
        {
          "output_type": "execute_result",
          "data": {
            "text/html": [
              "<div>\n",
              "<style scoped>\n",
              "    .dataframe tbody tr th:only-of-type {\n",
              "        vertical-align: middle;\n",
              "    }\n",
              "\n",
              "    .dataframe tbody tr th {\n",
              "        vertical-align: top;\n",
              "    }\n",
              "\n",
              "    .dataframe thead th {\n",
              "        text-align: right;\n",
              "    }\n",
              "</style>\n",
              "<table border=\"1\" class=\"dataframe\">\n",
              "  <thead>\n",
              "    <tr style=\"text-align: right;\">\n",
              "      <th></th>\n",
              "      <th>Number of italian artists</th>\n",
              "    </tr>\n",
              "  </thead>\n",
              "  <tbody>\n",
              "    <tr>\n",
              "      <th>0</th>\n",
              "      <td>8</td>\n",
              "    </tr>\n",
              "  </tbody>\n",
              "</table>\n",
              "</div>"
            ],
            "text/plain": [
              "   Number of italian artists\n",
              "0                          8"
            ]
          },
          "metadata": {
            "tags": []
          },
          "execution_count": 5
        }
      ]
    },
    {
      "cell_type": "markdown",
      "metadata": {
        "id": "LSHfyjQbaaYX"
      },
      "source": [
        "###Question 3\n",
        "\n",
        "Find the painter that was the most prolific."
      ]
    },
    {
      "cell_type": "code",
      "metadata": {
        "id": "20FjNGRnaZvU",
        "colab": {
          "base_uri": "https://localhost:8080/",
          "height": 80
        },
        "outputId": "04de0bab-26e5-4402-dfe6-edd0646fd4b7"
      },
      "source": [
        "query = \"\"\" \n",
        "select name, max(paintings)\n",
        "from artists\n",
        "\n",
        " \"\"\"\n",
        "sql_df = pd.read_sql(query, con=db)\n",
        "sql_df.head()"
      ],
      "execution_count": null,
      "outputs": [
        {
          "output_type": "execute_result",
          "data": {
            "text/html": [
              "<div>\n",
              "<style scoped>\n",
              "    .dataframe tbody tr th:only-of-type {\n",
              "        vertical-align: middle;\n",
              "    }\n",
              "\n",
              "    .dataframe tbody tr th {\n",
              "        vertical-align: top;\n",
              "    }\n",
              "\n",
              "    .dataframe thead th {\n",
              "        text-align: right;\n",
              "    }\n",
              "</style>\n",
              "<table border=\"1\" class=\"dataframe\">\n",
              "  <thead>\n",
              "    <tr style=\"text-align: right;\">\n",
              "      <th></th>\n",
              "      <th>name</th>\n",
              "      <th>max(paintings)</th>\n",
              "    </tr>\n",
              "  </thead>\n",
              "  <tbody>\n",
              "    <tr>\n",
              "      <th>0</th>\n",
              "      <td>Vincent van Gogh</td>\n",
              "      <td>877</td>\n",
              "    </tr>\n",
              "  </tbody>\n",
              "</table>\n",
              "</div>"
            ],
            "text/plain": [
              "               name  max(paintings)\n",
              "0  Vincent van Gogh             877"
            ]
          },
          "metadata": {
            "tags": []
          },
          "execution_count": 6
        }
      ]
    },
    {
      "cell_type": "markdown",
      "metadata": {
        "id": "mHc2s--Qjs1o"
      },
      "source": [
        "###Question 4\n",
        "Find the 5 genres that are the most represented. Display the genres and the respective number of artists representing them (as NumberOfRepresentants)"
      ]
    },
    {
      "cell_type": "code",
      "metadata": {
        "id": "0fp6u6U4kiNg",
        "colab": {
          "base_uri": "https://localhost:8080/",
          "height": 204
        },
        "outputId": "545cd383-15fe-4b04-f504-aab1a959f562"
      },
      "source": [
        "query = \"\"\" \n",
        "select count(name) as 'NumberOfRepresentants', genre\n",
        "from artists\n",
        "group by genre\n",
        "order by NumberOfRepresentants desc\n",
        "limit 5\n",
        "\"\"\"\n",
        "sql_df = pd.read_sql(query, con=db)\n",
        "sql_df"
      ],
      "execution_count": null,
      "outputs": [
        {
          "output_type": "execute_result",
          "data": {
            "text/html": [
              "<div>\n",
              "<style scoped>\n",
              "    .dataframe tbody tr th:only-of-type {\n",
              "        vertical-align: middle;\n",
              "    }\n",
              "\n",
              "    .dataframe tbody tr th {\n",
              "        vertical-align: top;\n",
              "    }\n",
              "\n",
              "    .dataframe thead th {\n",
              "        text-align: right;\n",
              "    }\n",
              "</style>\n",
              "<table border=\"1\" class=\"dataframe\">\n",
              "  <thead>\n",
              "    <tr style=\"text-align: right;\">\n",
              "      <th></th>\n",
              "      <th>NumberOfRepresentants</th>\n",
              "      <th>genre</th>\n",
              "    </tr>\n",
              "  </thead>\n",
              "  <tbody>\n",
              "    <tr>\n",
              "      <th>0</th>\n",
              "      <td>4</td>\n",
              "      <td>Baroque</td>\n",
              "    </tr>\n",
              "    <tr>\n",
              "      <th>1</th>\n",
              "      <td>4</td>\n",
              "      <td>Impressionism</td>\n",
              "    </tr>\n",
              "    <tr>\n",
              "      <th>2</th>\n",
              "      <td>4</td>\n",
              "      <td>Northern Renaissance</td>\n",
              "    </tr>\n",
              "    <tr>\n",
              "      <th>3</th>\n",
              "      <td>4</td>\n",
              "      <td>Post-Impressionism</td>\n",
              "    </tr>\n",
              "    <tr>\n",
              "      <th>4</th>\n",
              "      <td>3</td>\n",
              "      <td>High Renaissance</td>\n",
              "    </tr>\n",
              "  </tbody>\n",
              "</table>\n",
              "</div>"
            ],
            "text/plain": [
              "   NumberOfRepresentants                 genre\n",
              "0                      4               Baroque\n",
              "1                      4         Impressionism\n",
              "2                      4  Northern Renaissance\n",
              "3                      4    Post-Impressionism\n",
              "4                      3      High Renaissance"
            ]
          },
          "metadata": {
            "tags": []
          },
          "execution_count": 16
        }
      ]
    },
    {
      "cell_type": "markdown",
      "metadata": {
        "id": "F-ucieLWaNX1"
      },
      "source": [
        "###Question 5\n",
        "Find all the artists whose name start by a 'P' and have painted more than 200 paintings"
      ]
    },
    {
      "cell_type": "code",
      "metadata": {
        "id": "8nibn9X_o2Ng",
        "colab": {
          "base_uri": "https://localhost:8080/",
          "height": 142
        },
        "outputId": "8f58e579-7563-4abb-cd8f-fffcfdaf55be"
      },
      "source": [
        "query = \"\"\" \n",
        "select name, paintings\n",
        "from artists\n",
        "where name like 'P%' and paintings>200\n",
        "\n",
        "\"\"\"\n",
        "sql_df = pd.read_sql(query, con=db)\n",
        "sql_df"
      ],
      "execution_count": null,
      "outputs": [
        {
          "output_type": "execute_result",
          "data": {
            "text/html": [
              "<div>\n",
              "<style scoped>\n",
              "    .dataframe tbody tr th:only-of-type {\n",
              "        vertical-align: middle;\n",
              "    }\n",
              "\n",
              "    .dataframe tbody tr th {\n",
              "        vertical-align: top;\n",
              "    }\n",
              "\n",
              "    .dataframe thead th {\n",
              "        text-align: right;\n",
              "    }\n",
              "</style>\n",
              "<table border=\"1\" class=\"dataframe\">\n",
              "  <thead>\n",
              "    <tr style=\"text-align: right;\">\n",
              "      <th></th>\n",
              "      <th>name</th>\n",
              "      <th>paintings</th>\n",
              "    </tr>\n",
              "  </thead>\n",
              "  <tbody>\n",
              "    <tr>\n",
              "      <th>0</th>\n",
              "      <td>Pablo Picasso</td>\n",
              "      <td>439</td>\n",
              "    </tr>\n",
              "    <tr>\n",
              "      <th>1</th>\n",
              "      <td>Pierre-Auguste Renoir</td>\n",
              "      <td>336</td>\n",
              "    </tr>\n",
              "    <tr>\n",
              "      <th>2</th>\n",
              "      <td>Paul Gauguin</td>\n",
              "      <td>311</td>\n",
              "    </tr>\n",
              "  </tbody>\n",
              "</table>\n",
              "</div>"
            ],
            "text/plain": [
              "                    name  paintings\n",
              "0          Pablo Picasso        439\n",
              "1  Pierre-Auguste Renoir        336\n",
              "2           Paul Gauguin        311"
            ]
          },
          "metadata": {
            "tags": []
          },
          "execution_count": 8
        }
      ]
    },
    {
      "cell_type": "markdown",
      "metadata": {
        "id": "rlYLjAMgp3B9"
      },
      "source": [
        "###Question 6\n",
        "Find the genres where the Total number of paintings is greater or equal than 1000."
      ]
    },
    {
      "cell_type": "code",
      "metadata": {
        "id": "KkP5SHvBqAXz",
        "colab": {
          "base_uri": "https://localhost:8080/",
          "height": 111
        },
        "outputId": "0474495e-068b-44a8-a760-58f9bfc9d85b"
      },
      "source": [
        "query = \"\"\" \n",
        "select genre, sum(paintings) as 'Total Paintings'\n",
        "from artists\n",
        "group by genre\n",
        "having sum(paintings)>=1000\n",
        "\"\"\"\n",
        "sql_df = pd.read_sql(query, con=db)\n",
        "sql_df"
      ],
      "execution_count": null,
      "outputs": [
        {
          "output_type": "execute_result",
          "data": {
            "text/html": [
              "<div>\n",
              "<style scoped>\n",
              "    .dataframe tbody tr th:only-of-type {\n",
              "        vertical-align: middle;\n",
              "    }\n",
              "\n",
              "    .dataframe tbody tr th {\n",
              "        vertical-align: top;\n",
              "    }\n",
              "\n",
              "    .dataframe thead th {\n",
              "        text-align: right;\n",
              "    }\n",
              "</style>\n",
              "<table border=\"1\" class=\"dataframe\">\n",
              "  <thead>\n",
              "    <tr style=\"text-align: right;\">\n",
              "      <th></th>\n",
              "      <th>genre</th>\n",
              "      <th>Total Paintings</th>\n",
              "    </tr>\n",
              "  </thead>\n",
              "  <tbody>\n",
              "    <tr>\n",
              "      <th>0</th>\n",
              "      <td>Impressionism</td>\n",
              "      <td>1370</td>\n",
              "    </tr>\n",
              "    <tr>\n",
              "      <th>1</th>\n",
              "      <td>Post-Impressionism</td>\n",
              "      <td>1048</td>\n",
              "    </tr>\n",
              "  </tbody>\n",
              "</table>\n",
              "</div>"
            ],
            "text/plain": [
              "                genre  Total Paintings\n",
              "0       Impressionism             1370\n",
              "1  Post-Impressionism             1048"
            ]
          },
          "metadata": {
            "tags": []
          },
          "execution_count": 29
        }
      ]
    },
    {
      "cell_type": "markdown",
      "metadata": {
        "id": "fmsGWjb7q00n"
      },
      "source": [
        "###Question 7\n",
        "Find all the artists that where born after 1900. Display their names and their dates of birth and death."
      ]
    },
    {
      "cell_type": "code",
      "metadata": {
        "id": "TSIJKOn9q1GR",
        "colab": {
          "base_uri": "https://localhost:8080/",
          "height": 173
        },
        "outputId": "aa9bcd88-2e52-4776-b3df-f701132d6d19"
      },
      "source": [
        "query = \"\"\" \n",
        "select name, years\n",
        "from artists\n",
        "where years >= 1900\n",
        "\n",
        "\"\"\"\n",
        "sql_df = pd.read_sql(query, con=db)\n",
        "sql_df"
      ],
      "execution_count": null,
      "outputs": [
        {
          "output_type": "execute_result",
          "data": {
            "text/html": [
              "<div>\n",
              "<style scoped>\n",
              "    .dataframe tbody tr th:only-of-type {\n",
              "        vertical-align: middle;\n",
              "    }\n",
              "\n",
              "    .dataframe tbody tr th {\n",
              "        vertical-align: top;\n",
              "    }\n",
              "\n",
              "    .dataframe thead th {\n",
              "        text-align: right;\n",
              "    }\n",
              "</style>\n",
              "<table border=\"1\" class=\"dataframe\">\n",
              "  <thead>\n",
              "    <tr style=\"text-align: right;\">\n",
              "      <th></th>\n",
              "      <th>name</th>\n",
              "      <th>years</th>\n",
              "    </tr>\n",
              "  </thead>\n",
              "  <tbody>\n",
              "    <tr>\n",
              "      <th>0</th>\n",
              "      <td>Salvador Dali</td>\n",
              "      <td>1904 - 1989</td>\n",
              "    </tr>\n",
              "    <tr>\n",
              "      <th>1</th>\n",
              "      <td>Frida Kahlo</td>\n",
              "      <td>1907 - 1954</td>\n",
              "    </tr>\n",
              "    <tr>\n",
              "      <th>2</th>\n",
              "      <td>Andy Warhol</td>\n",
              "      <td>1928 – 1987</td>\n",
              "    </tr>\n",
              "    <tr>\n",
              "      <th>3</th>\n",
              "      <td>Jackson Pollock</td>\n",
              "      <td>1912 – 1956</td>\n",
              "    </tr>\n",
              "  </tbody>\n",
              "</table>\n",
              "</div>"
            ],
            "text/plain": [
              "              name        years\n",
              "0    Salvador Dali  1904 - 1989\n",
              "1      Frida Kahlo  1907 - 1954\n",
              "2      Andy Warhol  1928 – 1987\n",
              "3  Jackson Pollock  1912 – 1956"
            ]
          },
          "metadata": {
            "tags": []
          },
          "execution_count": 37
        }
      ]
    },
    {
      "cell_type": "markdown",
      "metadata": {
        "id": "mK16XQedsjCZ"
      },
      "source": [
        "###Question 8\n",
        "Find all the artists that where born during the XVII century and are Spanish or Italian."
      ]
    },
    {
      "cell_type": "code",
      "metadata": {
        "id": "qu28hEDGsxTf",
        "colab": {
          "base_uri": "https://localhost:8080/",
          "height": 49
        },
        "outputId": "46cd732c-11b2-4d8b-ad05-24d7fe42dad9"
      },
      "source": [
        "query = \"\"\" \n",
        "select *\n",
        "from artists\n",
        "where (years between 1600 and 1700) and (nationality == 'Spanish' or nationality == 'Italian')\n",
        "\n",
        "\"\"\"\n",
        "sql_df = pd.read_sql(query, con=db)\n",
        "sql_df"
      ],
      "execution_count": null,
      "outputs": [
        {
          "output_type": "execute_result",
          "data": {
            "text/html": [
              "<div>\n",
              "<style scoped>\n",
              "    .dataframe tbody tr th:only-of-type {\n",
              "        vertical-align: middle;\n",
              "    }\n",
              "\n",
              "    .dataframe tbody tr th {\n",
              "        vertical-align: top;\n",
              "    }\n",
              "\n",
              "    .dataframe thead th {\n",
              "        text-align: right;\n",
              "    }\n",
              "</style>\n",
              "<table border=\"1\" class=\"dataframe\">\n",
              "  <thead>\n",
              "    <tr style=\"text-align: right;\">\n",
              "      <th></th>\n",
              "      <th>index</th>\n",
              "      <th>id</th>\n",
              "      <th>name</th>\n",
              "      <th>years</th>\n",
              "      <th>genre</th>\n",
              "      <th>nationality</th>\n",
              "      <th>bio</th>\n",
              "      <th>wikipedia</th>\n",
              "      <th>paintings</th>\n",
              "    </tr>\n",
              "  </thead>\n",
              "  <tbody>\n",
              "  </tbody>\n",
              "</table>\n",
              "</div>"
            ],
            "text/plain": [
              "Empty DataFrame\n",
              "Columns: [index, id, name, years, genre, nationality, bio, wikipedia, paintings]\n",
              "Index: []"
            ]
          },
          "metadata": {
            "tags": []
          },
          "execution_count": 43
        }
      ]
    }
  ]
}